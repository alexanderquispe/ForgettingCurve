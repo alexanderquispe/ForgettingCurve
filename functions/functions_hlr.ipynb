{
 "cells": [
  {
   "cell_type": "markdown",
   "id": "92ff5edb-baef-462e-a4ab-6b85ae765752",
   "metadata": {},
   "source": [
    "## 1. Load libraries and data"
   ]
  },
  {
   "cell_type": "code",
   "execution_count": 2,
   "id": "01ab5075-8b38-4655-a8b7-0ec50ec0f71d",
   "metadata": {
    "tags": []
   },
   "outputs": [],
   "source": [
    "import numpy as np\n",
    "import pandas as pd"
   ]
  },
  {
   "cell_type": "markdown",
   "id": "c1e2c078-722f-4476-8e37-e58c5f3d2ec7",
   "metadata": {},
   "source": [
    "## 2. Define functions"
   ]
  },
  {
   "cell_type": "code",
   "execution_count": null,
   "id": "fb957ed1-d066-4a28-8fa4-c0c19ac0384e",
   "metadata": {},
   "outputs": [],
   "source": [
    "def estimate_h_hat( theta, x ):\n",
    "    \n",
    "    '''\n",
    "    Objetivo:\n",
    "        - Estimar hat{h} a través de la ecuación N. 2:\n",
    "          \\hat{h} = 2^{Theta \\cdot x}\n",
    "          \n",
    "    Input:\n",
    "        - theta : valor de los coeficientes de x\n",
    "        - x     : variables predictoras\n",
    "        \n",
    "    Output:\n",
    "        - estimated_half_life: hat{h}\n",
    "    '''\n",
    "    estimated_h = 2 ** np.dot( theta, x )\n",
    "    \n",
    "    return estimated_h"
   ]
  },
  {
   "cell_type": "code",
   "execution_count": null,
   "id": "b177dc80-36db-4e4d-86b4-cd0c92e830cd",
   "metadata": {},
   "outputs": [],
   "source": [
    "def estimate_p_hat( delta, estimated_h ):\n",
    "    \n",
    "    '''\n",
    "    Objetivo:\n",
    "        - Estimar  hat{p} a través de la ecuación N. 4:\n",
    "          \\hat{p}_{\\Theta} = 2^{-\\Delta/\\hat{h}_{\\Theta}}\n",
    "   \n",
    "   Input:\n",
    "       - delta       : tiempo transcurrido desde \n",
    "                       la última práctica\n",
    "       - estimated_h : valor estimado de la capacidad\n",
    "                       de memoria o half_life ( hat{h} ).\n",
    "   \n",
    "   Output:\n",
    "       - predicted_p : valor estimado de la probabilidad\n",
    "                       de recordar( hat{p} )\n",
    "        \n",
    "    '''\n",
    "    \n",
    "    predicted_p = 2 ** ( - delta / estimated_h )\n",
    "    \n",
    "    return predicted_p"
   ]
  },
  {
   "cell_type": "code",
   "execution_count": 7,
   "id": "a0f5f10c-c918-42d0-a72b-b9796339ab0e",
   "metadata": {
    "tags": []
   },
   "outputs": [],
   "source": [
    "def hh_loss_function( p, predicted_p, estimated_h, delta, theta, lambda_param = 0.1, alpha_param = 0.01 ):\n",
    "    \n",
    "    '''\n",
    "    Objetivo: \n",
    "        - Calcular el valor de pérdida del modelo Half Life Regression\n",
    "          Ecuación N. 9.\n",
    "    \n",
    "    Input:\n",
    "        - p            : probabilidad de recordar real\n",
    "        - predicted_p  : probabilidad de recordar predicha\n",
    "                         mediante la función predict_recall_probability\n",
    "        - estimated_h  : capacidad de memoria estimada\n",
    "        - delta        : tiempo transcurrido desde la última práctica\n",
    "        - theta        : valor de los coeficientes de x\n",
    "        - lambda_param : parámetro lambda de importancia relativa de la\n",
    "                         semivida en la función de pérdida\n",
    "        - alpha_param  : parámetro de regularización L2\n",
    "        \n",
    "    Output:\n",
    "        - Valor de pérdida de la función Half Life Regression\n",
    "    '''\n",
    "    \n",
    "    loss_p              = np.square( p - predicted_p )\n",
    "    loss_h              = np.square( ( -delta / np.log2( p ) ) - estimated_h )\n",
    "    regularization_term = alpha_param * np.sum( np.square( theta ) )\n",
    "    \n",
    "    loss = loss_p + lambda_param * loss_h + regularization_term  \n",
    "\n",
    "    return loss"
   ]
  },
  {
   "cell_type": "code",
   "execution_count": null,
   "id": "dfcc9600-184b-46ce-b0df-ac05e4abd000",
   "metadata": {},
   "outputs": [],
   "source": [
    "def hh_model( x_train, y_train, learning_rate, iterations, lambda_param, alpha_param ):\n",
    "    \n",
    "    '''\n",
    "\n",
    "    '''\n",
    "    \n",
    "    for i in range( iterations ):\n",
    "        \n",
    "        estimated_h = estimate_h_hat( theta, x )\n",
    "        predicted_p = estimate_p_hat( delta, estimated_h )\n",
    "        cost        = hh_loss_function( p, predicted_p, estimated_h, delta, theta, lambda_param = 0.1, alpha_param = 0.01 )\n",
    "        theta       = gradient_descent( ... )\n",
    "        \n",
    "    return theta, cost_list\n",
    "        "
   ]
  }
 ],
 "metadata": {
  "kernelspec": {
   "display_name": "Python 3 (ipykernel)",
   "language": "python",
   "name": "python3"
  },
  "language_info": {
   "codemirror_mode": {
    "name": "ipython",
    "version": 3
   },
   "file_extension": ".py",
   "mimetype": "text/x-python",
   "name": "python",
   "nbconvert_exporter": "python",
   "pygments_lexer": "ipython3",
   "version": "3.11.4"
  }
 },
 "nbformat": 4,
 "nbformat_minor": 5
}
